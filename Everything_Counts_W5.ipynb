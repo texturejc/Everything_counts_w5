{
 "cells": [
  {
   "cell_type": "markdown",
   "id": "71b8dda4-a94c-4b84-8ffa-3c8beb52810d",
   "metadata": {},
   "source": [
    "# Import some useful libraries"
   ]
  },
  {
   "cell_type": "code",
   "execution_count": 31,
   "id": "36656eb1-29bb-40e8-84dd-b4fdd568fabf",
   "metadata": {},
   "outputs": [],
   "source": [
    "import statsmodels.api as sm\n",
    "import statsmodels.formula.api as smf\n",
    "import statsmodels.stats.weightstats as smw\n",
    "import numpy as np\n",
    "import random\n",
    "import pandas as pd\n",
    "import pingouin as pg\n",
    "import seaborn as sns\n",
    "sns.set()"
   ]
  },
  {
   "cell_type": "markdown",
   "id": "eb021595-a238-4275-88ff-500ac5e287ac",
   "metadata": {},
   "source": [
    "## Make synthetic data"
   ]
  },
  {
   "cell_type": "code",
   "execution_count": 35,
   "id": "4db5f01e-34ef-44ae-898b-fb4ee5e94f6f",
   "metadata": {},
   "outputs": [],
   "source": [
    "data = pd.DataFrame({\n",
    "    'group': ['A', 'A', 'A', 'B', 'B', 'B', 'A', 'B', 'A'],\n",
    "    'values_1': [23, 20, 22, 30, 32, 29, 27, 25, 26],\n",
    "    'values_2': [12, 19, 24, 33, 41, 46, 50, 53, 56],\n",
    "    'values_3': [22, 45, 41, 56, 33, 44, 51, 21, 47],\n",
    "    'values_4': [53, 21, 36, 8, 50, 48, 33, 23, 47]})\n"
   ]
  },
  {
   "cell_type": "markdown",
   "id": "3c82607b-f51e-4733-b7cb-a70cf794fa86",
   "metadata": {},
   "source": [
    "## ANOVA"
   ]
  },
  {
   "cell_type": "code",
   "execution_count": 28,
   "id": "ffe5934c-b1b5-41e8-8547-191925be194e",
   "metadata": {},
   "outputs": [],
   "source": [
    "aov = smf.ols('values_1 ~ C(group)', data=data).fit()\n"
   ]
  },
  {
   "cell_type": "code",
   "execution_count": null,
   "id": "425c8c91-d6f6-44ce-bf05-bb6edb118d32",
   "metadata": {},
   "outputs": [],
   "source": [
    "aov.summary()"
   ]
  },
  {
   "cell_type": "markdown",
   "id": "b4a7bc82-bc55-4d7c-8254-d803e6909499",
   "metadata": {},
   "source": [
    "## Regression"
   ]
  },
  {
   "cell_type": "code",
   "execution_count": 36,
   "id": "02094b6e-a154-451b-b4ef-a1d2a45e4273",
   "metadata": {},
   "outputs": [],
   "source": [
    "regression = smf.ols('values_1 ~ values_2 + values_3', data=data).fit()"
   ]
  },
  {
   "cell_type": "code",
   "execution_count": null,
   "id": "17d82655-a93d-4e08-bcdc-6a8736f6f836",
   "metadata": {},
   "outputs": [],
   "source": [
    "regression.summary()"
   ]
  }
 ],
 "metadata": {
  "kernelspec": {
   "display_name": "Python 3 (ipykernel)",
   "language": "python",
   "name": "python3"
  },
  "language_info": {
   "codemirror_mode": {
    "name": "ipython",
    "version": 3
   },
   "file_extension": ".py",
   "mimetype": "text/x-python",
   "name": "python",
   "nbconvert_exporter": "python",
   "pygments_lexer": "ipython3",
   "version": "3.9.18"
  }
 },
 "nbformat": 4,
 "nbformat_minor": 5
}
