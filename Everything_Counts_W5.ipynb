{
 "cells": [
  {
   "cell_type": "markdown",
   "id": "71b8dda4-a94c-4b84-8ffa-3c8beb52810d",
   "metadata": {},
   "source": [
    "# Import some useful libraries"
   ]
  },
  {
   "cell_type": "code",
   "execution_count": 31,
   "id": "36656eb1-29bb-40e8-84dd-b4fdd568fabf",
   "metadata": {},
   "outputs": [],
   "source": [
    "import statsmodels.api as sm\n",
    "import statsmodels.formula.api as smf\n",
    "import statsmodels.stats.weightstats as smw\n",
    "import numpy as np\n",
    "import random\n",
    "import pandas as pd\n",
    "import pingouin as pg\n",
    "import seaborn as sns\n",
    "sns.set()"
   ]
  },
  {
   "cell_type": "markdown",
   "id": "eb021595-a238-4275-88ff-500ac5e287ac",
   "metadata": {},
   "source": [
    "## Make synthetic data"
   ]
  },
  {
   "cell_type": "code",
   "execution_count": 35,
   "id": "4db5f01e-34ef-44ae-898b-fb4ee5e94f6f",
   "metadata": {},
   "outputs": [],
   "source": [
    "data = pd.DataFrame({\n",
    "    'group': ['A', 'A', 'A', 'B', 'B', 'B', 'A', 'B', 'A'],\n",
    "    'values_1': [23, 20, 22, 30, 32, 29, 27, 25, 26],\n",
    "    'values_2': [12, 19, 24, 33, 41, 46, 50, 53, 56],\n",
    "    'values_3': [22, 45, 41, 56, 33, 44, 51, 21, 47],\n",
    "    'values_4': [53, 21, 36, 8, 50, 48, 33, 23, 47]})\n"
   ]
  },
  {
   "cell_type": "markdown",
   "id": "3c82607b-f51e-4733-b7cb-a70cf794fa86",
   "metadata": {},
   "source": [
    "## ANOVA"
   ]
  },
  {
   "cell_type": "code",
   "execution_count": 28,
   "id": "ffe5934c-b1b5-41e8-8547-191925be194e",
   "metadata": {},
   "outputs": [],
   "source": [
    "aov = smf.ols('values_1 ~ C(group)', data=data).fit()\n"
   ]
  },
  {
   "cell_type": "code",
   "execution_count": 29,
   "id": "425c8c91-d6f6-44ce-bf05-bb6edb118d32",
   "metadata": {},
   "outputs": [
    {
     "name": "stderr",
     "output_type": "stream",
     "text": [
      "/Users/james/opt/anaconda3/envs/NLP/lib/python3.9/site-packages/scipy/stats/_axis_nan_policy.py:531: UserWarning: kurtosistest only valid for n>=20 ... continuing anyway, n=9\n",
      "  res = hypotest_fun_out(*samples, **kwds)\n"
     ]
    },
    {
     "data": {
      "text/html": [
       "<table class=\"simpletable\">\n",
       "<caption>OLS Regression Results</caption>\n",
       "<tr>\n",
       "  <th>Dep. Variable:</th>        <td>values_1</td>     <th>  R-squared:         </th> <td>   0.523</td>\n",
       "</tr>\n",
       "<tr>\n",
       "  <th>Model:</th>                   <td>OLS</td>       <th>  Adj. R-squared:    </th> <td>   0.454</td>\n",
       "</tr>\n",
       "<tr>\n",
       "  <th>Method:</th>             <td>Least Squares</td>  <th>  F-statistic:       </th> <td>   7.662</td>\n",
       "</tr>\n",
       "<tr>\n",
       "  <th>Date:</th>             <td>Tue, 29 Oct 2024</td> <th>  Prob (F-statistic):</th>  <td>0.0278</td> \n",
       "</tr>\n",
       "<tr>\n",
       "  <th>Time:</th>                 <td>12:32:48</td>     <th>  Log-Likelihood:    </th> <td> -21.247</td>\n",
       "</tr>\n",
       "<tr>\n",
       "  <th>No. Observations:</th>      <td>     9</td>      <th>  AIC:               </th> <td>   46.49</td>\n",
       "</tr>\n",
       "<tr>\n",
       "  <th>Df Residuals:</th>          <td>     7</td>      <th>  BIC:               </th> <td>   46.89</td>\n",
       "</tr>\n",
       "<tr>\n",
       "  <th>Df Model:</th>              <td>     1</td>      <th>                     </th>     <td> </td>   \n",
       "</tr>\n",
       "<tr>\n",
       "  <th>Covariance Type:</th>      <td>nonrobust</td>    <th>                     </th>     <td> </td>   \n",
       "</tr>\n",
       "</table>\n",
       "<table class=\"simpletable\">\n",
       "<tr>\n",
       "        <td></td>           <th>coef</th>     <th>std err</th>      <th>t</th>      <th>P>|t|</th>  <th>[0.025</th>    <th>0.975]</th>  \n",
       "</tr>\n",
       "<tr>\n",
       "  <th>Intercept</th>     <td>   23.6000</td> <td>    1.301</td> <td>   18.146</td> <td> 0.000</td> <td>   20.525</td> <td>   26.675</td>\n",
       "</tr>\n",
       "<tr>\n",
       "  <th>C(group)[T.B]</th> <td>    5.4000</td> <td>    1.951</td> <td>    2.768</td> <td> 0.028</td> <td>    0.787</td> <td>   10.013</td>\n",
       "</tr>\n",
       "</table>\n",
       "<table class=\"simpletable\">\n",
       "<tr>\n",
       "  <th>Omnibus:</th>       <td> 1.074</td> <th>  Durbin-Watson:     </th> <td>   2.366</td>\n",
       "</tr>\n",
       "<tr>\n",
       "  <th>Prob(Omnibus):</th> <td> 0.584</td> <th>  Jarque-Bera (JB):  </th> <td>   0.665</td>\n",
       "</tr>\n",
       "<tr>\n",
       "  <th>Skew:</th>          <td>-0.223</td> <th>  Prob(JB):          </th> <td>   0.717</td>\n",
       "</tr>\n",
       "<tr>\n",
       "  <th>Kurtosis:</th>      <td> 1.745</td> <th>  Cond. No.          </th> <td>    2.51</td>\n",
       "</tr>\n",
       "</table><br/><br/>Notes:<br/>[1] Standard Errors assume that the covariance matrix of the errors is correctly specified."
      ],
      "text/latex": [
       "\\begin{center}\n",
       "\\begin{tabular}{lclc}\n",
       "\\toprule\n",
       "\\textbf{Dep. Variable:}    &    values\\_1     & \\textbf{  R-squared:         } &     0.523   \\\\\n",
       "\\textbf{Model:}            &       OLS        & \\textbf{  Adj. R-squared:    } &     0.454   \\\\\n",
       "\\textbf{Method:}           &  Least Squares   & \\textbf{  F-statistic:       } &     7.662   \\\\\n",
       "\\textbf{Date:}             & Tue, 29 Oct 2024 & \\textbf{  Prob (F-statistic):} &   0.0278    \\\\\n",
       "\\textbf{Time:}             &     12:32:48     & \\textbf{  Log-Likelihood:    } &   -21.247   \\\\\n",
       "\\textbf{No. Observations:} &           9      & \\textbf{  AIC:               } &     46.49   \\\\\n",
       "\\textbf{Df Residuals:}     &           7      & \\textbf{  BIC:               } &     46.89   \\\\\n",
       "\\textbf{Df Model:}         &           1      & \\textbf{                     } &             \\\\\n",
       "\\textbf{Covariance Type:}  &    nonrobust     & \\textbf{                     } &             \\\\\n",
       "\\bottomrule\n",
       "\\end{tabular}\n",
       "\\begin{tabular}{lcccccc}\n",
       "                       & \\textbf{coef} & \\textbf{std err} & \\textbf{t} & \\textbf{P$> |$t$|$} & \\textbf{[0.025} & \\textbf{0.975]}  \\\\\n",
       "\\midrule\n",
       "\\textbf{Intercept}     &      23.6000  &        1.301     &    18.146  &         0.000        &       20.525    &       26.675     \\\\\n",
       "\\textbf{C(group)[T.B]} &       5.4000  &        1.951     &     2.768  &         0.028        &        0.787    &       10.013     \\\\\n",
       "\\bottomrule\n",
       "\\end{tabular}\n",
       "\\begin{tabular}{lclc}\n",
       "\\textbf{Omnibus:}       &  1.074 & \\textbf{  Durbin-Watson:     } &    2.366  \\\\\n",
       "\\textbf{Prob(Omnibus):} &  0.584 & \\textbf{  Jarque-Bera (JB):  } &    0.665  \\\\\n",
       "\\textbf{Skew:}          & -0.223 & \\textbf{  Prob(JB):          } &    0.717  \\\\\n",
       "\\textbf{Kurtosis:}      &  1.745 & \\textbf{  Cond. No.          } &     2.51  \\\\\n",
       "\\bottomrule\n",
       "\\end{tabular}\n",
       "%\\caption{OLS Regression Results}\n",
       "\\end{center}\n",
       "\n",
       "Notes: \\newline\n",
       " [1] Standard Errors assume that the covariance matrix of the errors is correctly specified."
      ],
      "text/plain": [
       "<class 'statsmodels.iolib.summary.Summary'>\n",
       "\"\"\"\n",
       "                            OLS Regression Results                            \n",
       "==============================================================================\n",
       "Dep. Variable:               values_1   R-squared:                       0.523\n",
       "Model:                            OLS   Adj. R-squared:                  0.454\n",
       "Method:                 Least Squares   F-statistic:                     7.662\n",
       "Date:                Tue, 29 Oct 2024   Prob (F-statistic):             0.0278\n",
       "Time:                        12:32:48   Log-Likelihood:                -21.247\n",
       "No. Observations:                   9   AIC:                             46.49\n",
       "Df Residuals:                       7   BIC:                             46.89\n",
       "Df Model:                           1                                         \n",
       "Covariance Type:            nonrobust                                         \n",
       "=================================================================================\n",
       "                    coef    std err          t      P>|t|      [0.025      0.975]\n",
       "---------------------------------------------------------------------------------\n",
       "Intercept        23.6000      1.301     18.146      0.000      20.525      26.675\n",
       "C(group)[T.B]     5.4000      1.951      2.768      0.028       0.787      10.013\n",
       "==============================================================================\n",
       "Omnibus:                        1.074   Durbin-Watson:                   2.366\n",
       "Prob(Omnibus):                  0.584   Jarque-Bera (JB):                0.665\n",
       "Skew:                          -0.223   Prob(JB):                        0.717\n",
       "Kurtosis:                       1.745   Cond. No.                         2.51\n",
       "==============================================================================\n",
       "\n",
       "Notes:\n",
       "[1] Standard Errors assume that the covariance matrix of the errors is correctly specified.\n",
       "\"\"\""
      ]
     },
     "execution_count": 29,
     "metadata": {},
     "output_type": "execute_result"
    }
   ],
   "source": [
    "aov.summary()"
   ]
  },
  {
   "cell_type": "markdown",
   "id": "b4a7bc82-bc55-4d7c-8254-d803e6909499",
   "metadata": {},
   "source": [
    "## Regression"
   ]
  },
  {
   "cell_type": "code",
   "execution_count": 36,
   "id": "02094b6e-a154-451b-b4ef-a1d2a45e4273",
   "metadata": {},
   "outputs": [],
   "source": [
    "regression = smf.ols('values_1 ~ values_2 + values_3', data=data).fit()"
   ]
  },
  {
   "cell_type": "code",
   "execution_count": 37,
   "id": "17d82655-a93d-4e08-bcdc-6a8736f6f836",
   "metadata": {},
   "outputs": [
    {
     "name": "stderr",
     "output_type": "stream",
     "text": [
      "/Users/james/opt/anaconda3/envs/NLP/lib/python3.9/site-packages/scipy/stats/_axis_nan_policy.py:531: UserWarning: kurtosistest only valid for n>=20 ... continuing anyway, n=9\n",
      "  res = hypotest_fun_out(*samples, **kwds)\n"
     ]
    },
    {
     "data": {
      "text/html": [
       "<table class=\"simpletable\">\n",
       "<caption>OLS Regression Results</caption>\n",
       "<tr>\n",
       "  <th>Dep. Variable:</th>        <td>values_1</td>     <th>  R-squared:         </th> <td>   0.302</td>\n",
       "</tr>\n",
       "<tr>\n",
       "  <th>Model:</th>                   <td>OLS</td>       <th>  Adj. R-squared:    </th> <td>   0.069</td>\n",
       "</tr>\n",
       "<tr>\n",
       "  <th>Method:</th>             <td>Least Squares</td>  <th>  F-statistic:       </th> <td>   1.296</td>\n",
       "</tr>\n",
       "<tr>\n",
       "  <th>Date:</th>             <td>Tue, 29 Oct 2024</td> <th>  Prob (F-statistic):</th>  <td> 0.340</td> \n",
       "</tr>\n",
       "<tr>\n",
       "  <th>Time:</th>                 <td>12:36:26</td>     <th>  Log-Likelihood:    </th> <td> -22.958</td>\n",
       "</tr>\n",
       "<tr>\n",
       "  <th>No. Observations:</th>      <td>     9</td>      <th>  AIC:               </th> <td>   51.92</td>\n",
       "</tr>\n",
       "<tr>\n",
       "  <th>Df Residuals:</th>          <td>     6</td>      <th>  BIC:               </th> <td>   52.51</td>\n",
       "</tr>\n",
       "<tr>\n",
       "  <th>Df Model:</th>              <td>     2</td>      <th>                     </th>     <td> </td>   \n",
       "</tr>\n",
       "<tr>\n",
       "  <th>Covariance Type:</th>      <td>nonrobust</td>    <th>                     </th>     <td> </td>   \n",
       "</tr>\n",
       "</table>\n",
       "<table class=\"simpletable\">\n",
       "<tr>\n",
       "      <td></td>         <th>coef</th>     <th>std err</th>      <th>t</th>      <th>P>|t|</th>  <th>[0.025</th>    <th>0.975]</th>  \n",
       "</tr>\n",
       "<tr>\n",
       "  <th>Intercept</th> <td>   19.6062</td> <td>    5.171</td> <td>    3.792</td> <td> 0.009</td> <td>    6.954</td> <td>   32.258</td>\n",
       "</tr>\n",
       "<tr>\n",
       "  <th>values_2</th>  <td>    0.1269</td> <td>    0.086</td> <td>    1.479</td> <td> 0.190</td> <td>   -0.083</td> <td>    0.337</td>\n",
       "</tr>\n",
       "<tr>\n",
       "  <th>values_3</th>  <td>    0.0421</td> <td>    0.111</td> <td>    0.379</td> <td> 0.718</td> <td>   -0.230</td> <td>    0.314</td>\n",
       "</tr>\n",
       "</table>\n",
       "<table class=\"simpletable\">\n",
       "<tr>\n",
       "  <th>Omnibus:</th>       <td> 1.101</td> <th>  Durbin-Watson:     </th> <td>   1.093</td>\n",
       "</tr>\n",
       "<tr>\n",
       "  <th>Prob(Omnibus):</th> <td> 0.577</td> <th>  Jarque-Bera (JB):  </th> <td>   0.827</td>\n",
       "</tr>\n",
       "<tr>\n",
       "  <th>Skew:</th>          <td> 0.570</td> <th>  Prob(JB):          </th> <td>   0.661</td>\n",
       "</tr>\n",
       "<tr>\n",
       "  <th>Kurtosis:</th>      <td> 2.048</td> <th>  Cond. No.          </th> <td>    230.</td>\n",
       "</tr>\n",
       "</table><br/><br/>Notes:<br/>[1] Standard Errors assume that the covariance matrix of the errors is correctly specified."
      ],
      "text/latex": [
       "\\begin{center}\n",
       "\\begin{tabular}{lclc}\n",
       "\\toprule\n",
       "\\textbf{Dep. Variable:}    &    values\\_1     & \\textbf{  R-squared:         } &     0.302   \\\\\n",
       "\\textbf{Model:}            &       OLS        & \\textbf{  Adj. R-squared:    } &     0.069   \\\\\n",
       "\\textbf{Method:}           &  Least Squares   & \\textbf{  F-statistic:       } &     1.296   \\\\\n",
       "\\textbf{Date:}             & Tue, 29 Oct 2024 & \\textbf{  Prob (F-statistic):} &    0.340    \\\\\n",
       "\\textbf{Time:}             &     12:36:26     & \\textbf{  Log-Likelihood:    } &   -22.958   \\\\\n",
       "\\textbf{No. Observations:} &           9      & \\textbf{  AIC:               } &     51.92   \\\\\n",
       "\\textbf{Df Residuals:}     &           6      & \\textbf{  BIC:               } &     52.51   \\\\\n",
       "\\textbf{Df Model:}         &           2      & \\textbf{                     } &             \\\\\n",
       "\\textbf{Covariance Type:}  &    nonrobust     & \\textbf{                     } &             \\\\\n",
       "\\bottomrule\n",
       "\\end{tabular}\n",
       "\\begin{tabular}{lcccccc}\n",
       "                   & \\textbf{coef} & \\textbf{std err} & \\textbf{t} & \\textbf{P$> |$t$|$} & \\textbf{[0.025} & \\textbf{0.975]}  \\\\\n",
       "\\midrule\n",
       "\\textbf{Intercept} &      19.6062  &        5.171     &     3.792  &         0.009        &        6.954    &       32.258     \\\\\n",
       "\\textbf{values\\_2} &       0.1269  &        0.086     &     1.479  &         0.190        &       -0.083    &        0.337     \\\\\n",
       "\\textbf{values\\_3} &       0.0421  &        0.111     &     0.379  &         0.718        &       -0.230    &        0.314     \\\\\n",
       "\\bottomrule\n",
       "\\end{tabular}\n",
       "\\begin{tabular}{lclc}\n",
       "\\textbf{Omnibus:}       &  1.101 & \\textbf{  Durbin-Watson:     } &    1.093  \\\\\n",
       "\\textbf{Prob(Omnibus):} &  0.577 & \\textbf{  Jarque-Bera (JB):  } &    0.827  \\\\\n",
       "\\textbf{Skew:}          &  0.570 & \\textbf{  Prob(JB):          } &    0.661  \\\\\n",
       "\\textbf{Kurtosis:}      &  2.048 & \\textbf{  Cond. No.          } &     230.  \\\\\n",
       "\\bottomrule\n",
       "\\end{tabular}\n",
       "%\\caption{OLS Regression Results}\n",
       "\\end{center}\n",
       "\n",
       "Notes: \\newline\n",
       " [1] Standard Errors assume that the covariance matrix of the errors is correctly specified."
      ],
      "text/plain": [
       "<class 'statsmodels.iolib.summary.Summary'>\n",
       "\"\"\"\n",
       "                            OLS Regression Results                            \n",
       "==============================================================================\n",
       "Dep. Variable:               values_1   R-squared:                       0.302\n",
       "Model:                            OLS   Adj. R-squared:                  0.069\n",
       "Method:                 Least Squares   F-statistic:                     1.296\n",
       "Date:                Tue, 29 Oct 2024   Prob (F-statistic):              0.340\n",
       "Time:                        12:36:26   Log-Likelihood:                -22.958\n",
       "No. Observations:                   9   AIC:                             51.92\n",
       "Df Residuals:                       6   BIC:                             52.51\n",
       "Df Model:                           2                                         \n",
       "Covariance Type:            nonrobust                                         \n",
       "==============================================================================\n",
       "                 coef    std err          t      P>|t|      [0.025      0.975]\n",
       "------------------------------------------------------------------------------\n",
       "Intercept     19.6062      5.171      3.792      0.009       6.954      32.258\n",
       "values_2       0.1269      0.086      1.479      0.190      -0.083       0.337\n",
       "values_3       0.0421      0.111      0.379      0.718      -0.230       0.314\n",
       "==============================================================================\n",
       "Omnibus:                        1.101   Durbin-Watson:                   1.093\n",
       "Prob(Omnibus):                  0.577   Jarque-Bera (JB):                0.827\n",
       "Skew:                           0.570   Prob(JB):                        0.661\n",
       "Kurtosis:                       2.048   Cond. No.                         230.\n",
       "==============================================================================\n",
       "\n",
       "Notes:\n",
       "[1] Standard Errors assume that the covariance matrix of the errors is correctly specified.\n",
       "\"\"\""
      ]
     },
     "execution_count": 37,
     "metadata": {},
     "output_type": "execute_result"
    }
   ],
   "source": [
    "regression.summary()"
   ]
  },
  {
   "cell_type": "code",
   "execution_count": 11,
   "id": "40048083-a533-4d85-8696-537935d80965",
   "metadata": {},
   "outputs": [],
   "source": [
    "# Extract values for each group\n",
    "group1 = data.loc[data['group'] == 'A', 'values']\n",
    "group2 = data.loc[data['group'] == 'B', 'values']\n"
   ]
  },
  {
   "cell_type": "code",
   "execution_count": 12,
   "id": "a2aeb63b-647a-4a4b-ab2f-c14dbee5fefc",
   "metadata": {},
   "outputs": [],
   "source": [
    "t_stat, p_value, df = smw.ttest_ind(group1, group2, usevar='unequal', alternative='two-sided')"
   ]
  },
  {
   "cell_type": "code",
   "execution_count": 13,
   "id": "838d2850-d946-4172-ac95-5ad27a6f3022",
   "metadata": {},
   "outputs": [
    {
     "name": "stdout",
     "output_type": "stream",
     "text": [
      "t-statistic: -6.948792289723032\n",
      "p-value: 0.0022532572361776506\n",
      "Degrees of freedom: 3.999999999999999\n"
     ]
    }
   ],
   "source": [
    "# Print the results\n",
    "print(f\"t-statistic: {t_stat}\")\n",
    "print(f\"p-value: {p_value}\")\n",
    "print(f\"Degrees of freedom: {df}\")"
   ]
  },
  {
   "cell_type": "code",
   "execution_count": 20,
   "id": "45926b7d-a079-4377-8178-7f6b7eb01c20",
   "metadata": {},
   "outputs": [
    {
     "data": {
      "text/plain": [
       "9"
      ]
     },
     "execution_count": 20,
     "metadata": {},
     "output_type": "execute_result"
    }
   ],
   "source": [
    "len(data)"
   ]
  },
  {
   "cell_type": "code",
   "execution_count": 32,
   "id": "2bfa7ee8-5914-4801-adfb-87353f0bb2a6",
   "metadata": {},
   "outputs": [],
   "source": [
    "values_3 = random.sample(range(7, 57), 9)\n",
    "values_4 = random.sample(range(7, 57), 9)"
   ]
  },
  {
   "cell_type": "code",
   "execution_count": 34,
   "id": "7b2356cd-958f-4b11-86ad-668d77c75f06",
   "metadata": {},
   "outputs": [
    {
     "data": {
      "text/plain": [
       "[53, 21, 36, 8, 50, 48, 33, 23, 47]"
      ]
     },
     "execution_count": 34,
     "metadata": {},
     "output_type": "execute_result"
    }
   ],
   "source": [
    "values_4"
   ]
  },
  {
   "cell_type": "code",
   "execution_count": null,
   "id": "04ecadea-d724-4c39-a9ae-76e20a264519",
   "metadata": {},
   "outputs": [],
   "source": []
  }
 ],
 "metadata": {
  "kernelspec": {
   "display_name": "Python 3 (ipykernel)",
   "language": "python",
   "name": "python3"
  },
  "language_info": {
   "codemirror_mode": {
    "name": "ipython",
    "version": 3
   },
   "file_extension": ".py",
   "mimetype": "text/x-python",
   "name": "python",
   "nbconvert_exporter": "python",
   "pygments_lexer": "ipython3",
   "version": "3.9.18"
  }
 },
 "nbformat": 4,
 "nbformat_minor": 5
}
